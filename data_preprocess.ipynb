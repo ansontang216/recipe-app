{
  "nbformat": 4,
  "nbformat_minor": 0,
  "metadata": {
    "colab": {
      "name": "356csv-cleaning.ipynb",
      "provenance": [],
      "collapsed_sections": [],
      "toc_visible": true
    },
    "kernelspec": {
      "name": "python3",
      "display_name": "Python 3"
    },
    "language_info": {
      "name": "python"
    }
  },
  "cells": [
    {
      "cell_type": "code",
      "metadata": {
        "id": "yz0J-U2rBvMC"
      },
      "source": [
        "import pandas as pd\n",
        "import numpy as np"
      ],
      "execution_count": 397,
      "outputs": []
    },
    {
      "cell_type": "markdown",
      "metadata": {
        "id": "8FjvAm7RepuK"
      },
      "source": [
        "### Cleaning reviews.csv"
      ]
    },
    {
      "cell_type": "markdown",
      "metadata": {
        "id": "7YSwZ7yaBEiH"
      },
      "source": [
        "#### Read File\n",
        "Replace missing values with 'nan'"
      ]
    },
    {
      "cell_type": "code",
      "metadata": {
        "id": "i4GVWqXfdfV2"
      },
      "source": [
        "missing_values = [\"n/a\", \"na\", \"--\", \"Nan\", \"NAN\", \"NA\", \"na\", \"X\", \"\", \"nan\", \"N/A\"]"
      ],
      "execution_count": 518,
      "outputs": []
    },
    {
      "cell_type": "code",
      "metadata": {
        "id": "7ch9FVO2CCxG"
      },
      "source": [
        "recipes = pd.read_csv('recipes.csv', encoding='latin-1', sep=';', quotechar='\\'' , na_values = missing_values)"
      ],
      "execution_count": 519,
      "outputs": []
    },
    {
      "cell_type": "markdown",
      "metadata": {
        "id": "6LrkxII4PeiW"
      },
      "source": [
        "#### Check size and datatypes of the columns in recipes"
      ]
    },
    {
      "cell_type": "code",
      "metadata": {
        "colab": {
          "base_uri": "https://localhost:8080/"
        },
        "id": "_R9oC_hYSQKf",
        "outputId": "a25186cc-0f19-4dcf-af9c-59a19fb6007e"
      },
      "source": [
        "recipes.size"
      ],
      "execution_count": 520,
      "outputs": [
        {
          "output_type": "execute_result",
          "data": {
            "text/plain": [
              "184540"
            ]
          },
          "metadata": {
            "tags": []
          },
          "execution_count": 520
        }
      ]
    },
    {
      "cell_type": "code",
      "metadata": {
        "colab": {
          "base_uri": "https://localhost:8080/"
        },
        "id": "o_H5csIjPLRt",
        "outputId": "0c6f54d2-8baf-4284-f978-5d8692b5ceb7"
      },
      "source": [
        "recipes.dtypes"
      ],
      "execution_count": 506,
      "outputs": [
        {
          "output_type": "execute_result",
          "data": {
            "text/plain": [
              "Recipe Name     object\n",
              "RecipeID        object\n",
              "Review Count    object\n",
              "Recipe Photo    object\n",
              "Author          object\n",
              "Prepare Time    object\n",
              "Cook Time       object\n",
              "Total Time      object\n",
              "Ingredients     object\n",
              "Directions      object\n",
              "dtype: object"
            ]
          },
          "metadata": {
            "tags": []
          },
          "execution_count": 506
        }
      ]
    },
    {
      "cell_type": "markdown",
      "metadata": {
        "id": "cnpvMS2RPTeM"
      },
      "source": [
        "#### rename column names"
      ]
    },
    {
      "cell_type": "code",
      "metadata": {
        "id": "b2yOl-F8AxtT"
      },
      "source": [
        "recipes = recipes.rename(columns={\"Recipe Name\": \"recipeName\", \"RecipeID\": \"recipeID\", \"Review Count\": \"reviewCount\", \"Recipe Photo\": \"recipePhoto\", \"Author\": \"author\", \"Prepare Time\": \"prepareTime_min\", \"Cook Time\": \"cookTime_min\", \"Total Time\": \"totalTime_min\", \"Ingredients\" :\"ingredients\", \"Directions\" : \"directions\"})"
      ],
      "execution_count": 521,
      "outputs": []
    },
    {
      "cell_type": "code",
      "metadata": {
        "id": "WJN5JRwNiTpc"
      },
      "source": [
        "recipes.head(50)"
      ],
      "execution_count": null,
      "outputs": []
    },
    {
      "cell_type": "markdown",
      "metadata": {
        "id": "_QnWyBNifmXl"
      },
      "source": [
        "#### Check if all the values in a column are of the same type"
      ]
    },
    {
      "cell_type": "code",
      "metadata": {
        "id": "G9SWVS7CCL_q"
      },
      "source": [
        "for name in recipes.columns:\n",
        "  count = recipes[recipes[name].map(type) != str].count()\n",
        "  print(name, \"-------------------------\")\n",
        "  print(count)\n"
      ],
      "execution_count": null,
      "outputs": []
    },
    {
      "cell_type": "markdown",
      "metadata": {
        "id": "-V9LEg5OFZfw"
      },
      "source": [
        "#### Convert prepareTime, cookTime and totalTime  from 'str'  to 'int'\n"
      ]
    },
    {
      "cell_type": "code",
      "metadata": {
        "id": "dElLhoaWiNJq"
      },
      "source": [
        "#recipes.fillna(\"missing\", inplace=True)"
      ],
      "execution_count": 510,
      "outputs": []
    },
    {
      "cell_type": "code",
      "metadata": {
        "id": "I_3t02AAXqjF"
      },
      "source": [
        "from collections import defaultdict\n",
        "import re\n",
        "\n",
        "def isNaN(string):\n",
        "    return string != string\n",
        "\n",
        "def humantime2minutes(s):\n",
        "    if (isNaN(s)):\n",
        "      return np.NaN\n",
        "    d = {\n",
        "      'w':      7*24*60,\n",
        "      'week':   7*24*60,\n",
        "      'weeks':  7*24*60,\n",
        "      'd':      24*60,\n",
        "      'day':    24*60,\n",
        "      'days':   24*60,\n",
        "      'h':      60,\n",
        "      'hr':     60,\n",
        "      'hour':   60,\n",
        "      'hours':  60,\n",
        "      'm': 1,\n",
        "      'min': 1, \n",
        "    }\n",
        "    mult_items = defaultdict(lambda: 1).copy()\n",
        "    mult_items.update(d)\n",
        "\n",
        "    parts = re.search(r'^(\\d+)([^\\d]*)', s.lower().replace(' ', ''))\n",
        "    if parts:\n",
        "        return int(parts.group(1)) * mult_items[parts.group(2)] + humantime2minutes(re.sub(r'^(\\d+)([^\\d]*)', '', s.lower()))\n",
        "    else:\n",
        "        return 0"
      ],
      "execution_count": 524,
      "outputs": []
    },
    {
      "cell_type": "code",
      "metadata": {
        "id": "KHHxNLcmQb7e"
      },
      "source": [
        "recipes['prepareTime_min'] = recipes['prepareTime_min'].apply(humantime2minutes)"
      ],
      "execution_count": 525,
      "outputs": []
    },
    {
      "cell_type": "code",
      "metadata": {
        "id": "ZoDPh4cVQb0C"
      },
      "source": [
        "recipes['cookTime_min'] = recipes['cookTime_min'].apply(humantime2minutes)"
      ],
      "execution_count": 526,
      "outputs": []
    },
    {
      "cell_type": "code",
      "metadata": {
        "id": "Mka-MDo0Qbpo"
      },
      "source": [
        "recipes['totalTime_min'] = recipes['totalTime_min'].apply(humantime2minutes)"
      ],
      "execution_count": 527,
      "outputs": []
    },
    {
      "cell_type": "code",
      "metadata": {
        "id": "B5GcIywTiXRR"
      },
      "source": [
        "#recipes = recipes.replace('missing', np.NaN)"
      ],
      "execution_count": 516,
      "outputs": []
    },
    {
      "cell_type": "code",
      "metadata": {
        "id": "kOhQk9nl8RRN"
      },
      "source": [
        "recipes.head(50)"
      ],
      "execution_count": null,
      "outputs": []
    },
    {
      "cell_type": "markdown",
      "metadata": {
        "id": "H_7m_usnzUpn"
      },
      "source": [
        "#### Numeric Data Types"
      ]
    },
    {
      "cell_type": "markdown",
      "metadata": {
        "id": "34_ML1d24FHY"
      },
      "source": [
        "###### Check if RecipeID and Review Count have only numeric values and then convert to int.\n"
      ]
    },
    {
      "cell_type": "code",
      "metadata": {
        "id": "S9ion6uuPfdm"
      },
      "source": [
        "recipes['recipeID_is_digit'] = list(map(lambda x: not x.isdigit(), recipes['recipeID']))"
      ],
      "execution_count": 529,
      "outputs": []
    },
    {
      "cell_type": "code",
      "metadata": {
        "colab": {
          "base_uri": "https://localhost:8080/",
          "height": 100
        },
        "id": "mJTUDo25RRqq",
        "outputId": "c6af9da1-2baf-4d70-eab9-d160bbfb3934"
      },
      "source": [
        "recipes[recipes['recipeID_is_digit']]"
      ],
      "execution_count": 530,
      "outputs": [
        {
          "output_type": "execute_result",
          "data": {
            "text/html": [
              "<div>\n",
              "<style scoped>\n",
              "    .dataframe tbody tr th:only-of-type {\n",
              "        vertical-align: middle;\n",
              "    }\n",
              "\n",
              "    .dataframe tbody tr th {\n",
              "        vertical-align: top;\n",
              "    }\n",
              "\n",
              "    .dataframe thead th {\n",
              "        text-align: right;\n",
              "    }\n",
              "</style>\n",
              "<table border=\"1\" class=\"dataframe\">\n",
              "  <thead>\n",
              "    <tr style=\"text-align: right;\">\n",
              "      <th></th>\n",
              "      <th>recipeName</th>\n",
              "      <th>recipeID</th>\n",
              "      <th>reviewCount</th>\n",
              "      <th>recipePhoto</th>\n",
              "      <th>author</th>\n",
              "      <th>prepareTime_min</th>\n",
              "      <th>cookTime_min</th>\n",
              "      <th>totalTime_min</th>\n",
              "      <th>ingredients</th>\n",
              "      <th>directions</th>\n",
              "      <th>recipeID_is_digit</th>\n",
              "    </tr>\n",
              "  </thead>\n",
              "  <tbody>\n",
              "    <tr>\n",
              "      <th>245</th>\n",
              "      <td>Recipe Name</td>\n",
              "      <td>RecipeID</td>\n",
              "      <td>Review Count</td>\n",
              "      <td>Recipe Photo</td>\n",
              "      <td>Author</td>\n",
              "      <td>0.0</td>\n",
              "      <td>0.0</td>\n",
              "      <td>0.0</td>\n",
              "      <td>Ingredients</td>\n",
              "      <td>Directions</td>\n",
              "      <td>True</td>\n",
              "    </tr>\n",
              "  </tbody>\n",
              "</table>\n",
              "</div>"
            ],
            "text/plain": [
              "      recipeName  recipeID  ...  directions recipeID_is_digit\n",
              "245  Recipe Name  RecipeID  ...  Directions              True\n",
              "\n",
              "[1 rows x 11 columns]"
            ]
          },
          "metadata": {
            "tags": []
          },
          "execution_count": 530
        }
      ]
    },
    {
      "cell_type": "code",
      "metadata": {
        "id": "Ewd0C9O-TcyT"
      },
      "source": [
        "del recipes[\"recipeID_is_digit\"]"
      ],
      "execution_count": 531,
      "outputs": []
    },
    {
      "cell_type": "markdown",
      "metadata": {
        "id": "Iq0zLH3B4Tvb"
      },
      "source": [
        "* ###### Record 245 is not numeric so drop it"
      ]
    },
    {
      "cell_type": "code",
      "metadata": {
        "id": "X1KLautmSstT"
      },
      "source": [
        "recipes = recipes.drop(245)"
      ],
      "execution_count": 532,
      "outputs": []
    },
    {
      "cell_type": "markdown",
      "metadata": {
        "id": "YX1iEQ-iB94f"
      },
      "source": [
        "#### Change reviewCount from str -> int\n",
        "First change k to 1000 in reviewCount\n",
        "\n"
      ]
    },
    {
      "cell_type": "code",
      "metadata": {
        "id": "AkWWTOIIahHH"
      },
      "source": [
        "df1 = recipes.reviewCount.replace(r'[kM]+$', '', regex=True).astype(str)"
      ],
      "execution_count": 533,
      "outputs": []
    },
    {
      "cell_type": "code",
      "metadata": {
        "id": "UDCL8mgKhl0P"
      },
      "source": [
        "df2 = recipes.reviewCount.str.extract(r'[\\d\\.]+([km]+)', expand=False).replace('k','1000')"
      ],
      "execution_count": 534,
      "outputs": []
    },
    {
      "cell_type": "code",
      "metadata": {
        "id": "K0hgby2olPtB"
      },
      "source": [
        "df2 = df2.fillna('')"
      ],
      "execution_count": 535,
      "outputs": []
    },
    {
      "cell_type": "code",
      "metadata": {
        "id": "dRgLGVEHlzoh"
      },
      "source": [
        "recipes['reviewCount'] = df1 + df2"
      ],
      "execution_count": 536,
      "outputs": []
    },
    {
      "cell_type": "code",
      "metadata": {
        "id": "XbL0AK6Laml6"
      },
      "source": [
        "recipes['review_is_digit'] = list(map(lambda x: not x.isdigit(), recipes['reviewCount']))"
      ],
      "execution_count": 537,
      "outputs": []
    },
    {
      "cell_type": "code",
      "metadata": {
        "colab": {
          "base_uri": "https://localhost:8080/",
          "height": 69
        },
        "id": "0v4-IO9amj6Y",
        "outputId": "e4474d44-6fde-463d-8149-b8058584efcd"
      },
      "source": [
        "recipes[recipes['review_is_digit']]"
      ],
      "execution_count": 538,
      "outputs": [
        {
          "output_type": "execute_result",
          "data": {
            "text/html": [
              "<div>\n",
              "<style scoped>\n",
              "    .dataframe tbody tr th:only-of-type {\n",
              "        vertical-align: middle;\n",
              "    }\n",
              "\n",
              "    .dataframe tbody tr th {\n",
              "        vertical-align: top;\n",
              "    }\n",
              "\n",
              "    .dataframe thead th {\n",
              "        text-align: right;\n",
              "    }\n",
              "</style>\n",
              "<table border=\"1\" class=\"dataframe\">\n",
              "  <thead>\n",
              "    <tr style=\"text-align: right;\">\n",
              "      <th></th>\n",
              "      <th>recipeName</th>\n",
              "      <th>recipeID</th>\n",
              "      <th>reviewCount</th>\n",
              "      <th>recipePhoto</th>\n",
              "      <th>author</th>\n",
              "      <th>prepareTime_min</th>\n",
              "      <th>cookTime_min</th>\n",
              "      <th>totalTime_min</th>\n",
              "      <th>ingredients</th>\n",
              "      <th>directions</th>\n",
              "      <th>review_is_digit</th>\n",
              "    </tr>\n",
              "  </thead>\n",
              "  <tbody>\n",
              "  </tbody>\n",
              "</table>\n",
              "</div>"
            ],
            "text/plain": [
              "Empty DataFrame\n",
              "Columns: [recipeName, recipeID, reviewCount, recipePhoto, author, prepareTime_min, cookTime_min, totalTime_min, ingredients, directions, review_is_digit]\n",
              "Index: []"
            ]
          },
          "metadata": {
            "tags": []
          },
          "execution_count": 538
        }
      ]
    },
    {
      "cell_type": "code",
      "metadata": {
        "id": "s4Kj21YBTa2k"
      },
      "source": [
        "del recipes[\"review_is_digit\"]"
      ],
      "execution_count": 539,
      "outputs": []
    },
    {
      "cell_type": "markdown",
      "metadata": {
        "id": "njLTLPrLDjL6"
      },
      "source": [
        "##### Now reviewCount and recipeID have only numeric values so, convert them to int. And conver the remaining to str."
      ]
    },
    {
      "cell_type": "code",
      "metadata": {
        "id": "ea1Kv9-ooXm5"
      },
      "source": [
        "recipes['reviewCount'] = recipes['reviewCount'].astype('int')"
      ],
      "execution_count": 540,
      "outputs": []
    },
    {
      "cell_type": "code",
      "metadata": {
        "id": "yaTQYQUATSXu"
      },
      "source": [
        "recipes['recipeID'] = recipes['recipeID'].astype('int')"
      ],
      "execution_count": 541,
      "outputs": []
    },
    {
      "cell_type": "code",
      "metadata": {
        "id": "EFPl6PSCRlQm"
      },
      "source": [
        "recipes['recipeName'] = recipes['recipeName'].astype('str')"
      ],
      "execution_count": 542,
      "outputs": []
    },
    {
      "cell_type": "code",
      "metadata": {
        "id": "32A0QjFRRi4A"
      },
      "source": [
        "recipes['recipePhoto'] = recipes['recipePhoto'].astype('str')"
      ],
      "execution_count": 543,
      "outputs": []
    },
    {
      "cell_type": "code",
      "metadata": {
        "id": "I6dVRd_xRHxg"
      },
      "source": [
        "recipes['author'] = recipes['author'].astype('str')"
      ],
      "execution_count": 544,
      "outputs": []
    },
    {
      "cell_type": "code",
      "metadata": {
        "id": "jtJlvbQXRHls"
      },
      "source": [
        "recipes['ingredients'] = recipes['ingredients'].astype('str')"
      ],
      "execution_count": 545,
      "outputs": []
    },
    {
      "cell_type": "code",
      "metadata": {
        "id": "cGmCMGbfRHX9"
      },
      "source": [
        "recipes['directions'] = recipes['directions'].astype('str')"
      ],
      "execution_count": 546,
      "outputs": []
    },
    {
      "cell_type": "code",
      "metadata": {
        "id": "P-toyF5Q-ELG"
      },
      "source": [
        "recipes['prepareTime_min'] = recipes['prepareTime_min'].astype('str')"
      ],
      "execution_count": 552,
      "outputs": []
    },
    {
      "cell_type": "code",
      "metadata": {
        "id": "MMxNDjOq-E3y"
      },
      "source": [
        "recipes['cookTime_min'] = recipes['cookTime_min'].astype('str')"
      ],
      "execution_count": 553,
      "outputs": []
    },
    {
      "cell_type": "code",
      "metadata": {
        "id": "EaQN2kKM-Ewt"
      },
      "source": [
        "recipes['totalTime_min'] = recipes['totalTime_min'].astype('str')"
      ],
      "execution_count": 554,
      "outputs": []
    },
    {
      "cell_type": "code",
      "metadata": {
        "id": "lNWvXnBoOEII"
      },
      "source": [
        "recipes.head(50)"
      ],
      "execution_count": null,
      "outputs": []
    },
    {
      "cell_type": "code",
      "metadata": {
        "colab": {
          "base_uri": "https://localhost:8080/"
        },
        "id": "x9cvVVglOIQC",
        "outputId": "973ae65e-ae2c-44ac-d188-11ae8f917d17"
      },
      "source": [
        "recipes.dtypes"
      ],
      "execution_count": 556,
      "outputs": [
        {
          "output_type": "execute_result",
          "data": {
            "text/plain": [
              "recipeName         object\n",
              "recipeID            int64\n",
              "reviewCount         int64\n",
              "recipePhoto        object\n",
              "author             object\n",
              "prepareTime_min    object\n",
              "cookTime_min       object\n",
              "totalTime_min      object\n",
              "ingredients        object\n",
              "directions         object\n",
              "dtype: object"
            ]
          },
          "metadata": {
            "tags": []
          },
          "execution_count": 556
        }
      ]
    },
    {
      "cell_type": "markdown",
      "metadata": {
        "id": "tG7JWmtsTzEl"
      },
      "source": [
        "## Cleaning Reviews"
      ]
    },
    {
      "cell_type": "markdown",
      "metadata": {
        "id": "f1nOGFgN_6FD"
      },
      "source": [
        "#### Read file\n",
        "Replace missing values with 'nan'"
      ]
    },
    {
      "cell_type": "code",
      "metadata": {
        "id": "8HwHJcCkmBbt"
      },
      "source": [
        "missing_values = [\"n/a\", \"na\", \"--\", \"Nan\", \"NAN\", \"NA\", \"na\", \"X\", \"\", \"nan\", \"N/A\"]"
      ],
      "execution_count": 434,
      "outputs": []
    },
    {
      "cell_type": "code",
      "metadata": {
        "colab": {
          "base_uri": "https://localhost:8080/"
        },
        "id": "JYOWAzhrS3hi",
        "outputId": "735fd56b-97be-4ace-bb96-6b4e565c3a41"
      },
      "source": [
        "reviews = pd.read_csv('reviews.csv', encoding='latin-1', sep=';', quotechar='\\'', na_values=missing_values )"
      ],
      "execution_count": 435,
      "outputs": [
        {
          "output_type": "stream",
          "text": [
            "/usr/local/lib/python3.7/dist-packages/IPython/core/interactiveshell.py:2718: DtypeWarning: Columns (0,1,2) have mixed types.Specify dtype option on import or set low_memory=False.\n",
            "  interactivity=interactivity, compiler=compiler, result=result)\n"
          ],
          "name": "stderr"
        }
      ]
    },
    {
      "cell_type": "code",
      "metadata": {
        "id": "yLOWDXL03-l-"
      },
      "source": [
        "reviews.head(10)"
      ],
      "execution_count": null,
      "outputs": []
    },
    {
      "cell_type": "code",
      "metadata": {
        "colab": {
          "base_uri": "https://localhost:8080/"
        },
        "id": "dcbYSRAfT9ht",
        "outputId": "aeff9776-aa22-4af5-8f7a-de9ed4673242"
      },
      "source": [
        "reviews.dtypes"
      ],
      "execution_count": 437,
      "outputs": [
        {
          "output_type": "execute_result",
          "data": {
            "text/plain": [
              "RecipeID     object\n",
              "profileID    object\n",
              "Rate         object\n",
              "Comment      object\n",
              "dtype: object"
            ]
          },
          "metadata": {
            "tags": []
          },
          "execution_count": 437
        }
      ]
    },
    {
      "cell_type": "code",
      "metadata": {
        "colab": {
          "base_uri": "https://localhost:8080/"
        },
        "id": "vgpIC-blUJHQ",
        "outputId": "00f8d9ee-1bfb-42ca-8119-f5133eb9e581"
      },
      "source": [
        "reviews.columns"
      ],
      "execution_count": 438,
      "outputs": [
        {
          "output_type": "execute_result",
          "data": {
            "text/plain": [
              "Index(['RecipeID', 'profileID', 'Rate', 'Comment'], dtype='object')"
            ]
          },
          "metadata": {
            "tags": []
          },
          "execution_count": 438
        }
      ]
    },
    {
      "cell_type": "code",
      "metadata": {
        "id": "xGgCMEBzWRKL"
      },
      "source": [
        "reviews = reviews.rename(columns={\"RecipeId\": \"recipeId\", \"profileID\": \"profileID\", \"Rate\": \"rate\", \"Comment\": \"comment\"})"
      ],
      "execution_count": 439,
      "outputs": []
    },
    {
      "cell_type": "code",
      "metadata": {
        "colab": {
          "base_uri": "https://localhost:8080/"
        },
        "id": "qk3AzseklXHg",
        "outputId": "db840a8b-55ab-4c41-86e0-fa78f431b84a"
      },
      "source": [
        "reviews.size"
      ],
      "execution_count": 440,
      "outputs": [
        {
          "output_type": "execute_result",
          "data": {
            "text/plain": [
              "6315596"
            ]
          },
          "metadata": {
            "tags": []
          },
          "execution_count": 440
        }
      ]
    },
    {
      "cell_type": "markdown",
      "metadata": {
        "id": "x4m58sz8ARIM"
      },
      "source": [
        "#### For profileID check which rows have non-numeric values"
      ]
    },
    {
      "cell_type": "code",
      "metadata": {
        "id": "pLIdoGwC4c6U"
      },
      "source": [
        "reviews['filter'] = list(map(lambda x: not x.isdigit(), reviews['profileID'].astype('str')))"
      ],
      "execution_count": 443,
      "outputs": []
    },
    {
      "cell_type": "code",
      "metadata": {
        "colab": {
          "base_uri": "https://localhost:8080/",
          "height": 49
        },
        "id": "SXwaGuVw48CH",
        "outputId": "8845627f-1d71-4702-f901-d5293bbbff75"
      },
      "source": [
        "reviews[reviews['filter']]"
      ],
      "execution_count": 447,
      "outputs": [
        {
          "output_type": "execute_result",
          "data": {
            "text/html": [
              "<div>\n",
              "<style scoped>\n",
              "    .dataframe tbody tr th:only-of-type {\n",
              "        vertical-align: middle;\n",
              "    }\n",
              "\n",
              "    .dataframe tbody tr th {\n",
              "        vertical-align: top;\n",
              "    }\n",
              "\n",
              "    .dataframe thead th {\n",
              "        text-align: right;\n",
              "    }\n",
              "</style>\n",
              "<table border=\"1\" class=\"dataframe\">\n",
              "  <thead>\n",
              "    <tr style=\"text-align: right;\">\n",
              "      <th></th>\n",
              "      <th>RecipeID</th>\n",
              "      <th>profileID</th>\n",
              "      <th>rate</th>\n",
              "      <th>comment</th>\n",
              "      <th>filter</th>\n",
              "    </tr>\n",
              "  </thead>\n",
              "  <tbody>\n",
              "  </tbody>\n",
              "</table>\n",
              "</div>"
            ],
            "text/plain": [
              "Empty DataFrame\n",
              "Columns: [RecipeID, profileID, rate, comment, filter]\n",
              "Index: []"
            ]
          },
          "metadata": {
            "tags": []
          },
          "execution_count": 447
        }
      ]
    },
    {
      "cell_type": "markdown",
      "metadata": {
        "id": "UPCt47H9Acfh"
      },
      "source": [
        "##### Drop the rows with non-numeric values"
      ]
    },
    {
      "cell_type": "code",
      "metadata": {
        "id": "lVTYIe6C5L5G"
      },
      "source": [
        "# get names of indexes for which \n",
        "# column Age has value 21 \n",
        "index_names = reviews[ reviews['filter'] == 1 ].index \n",
        "  \n",
        "# drop these row indexes \n",
        "# from dataFrame \n",
        "reviews.drop(index_names, inplace = True) "
      ],
      "execution_count": 446,
      "outputs": []
    },
    {
      "cell_type": "markdown",
      "metadata": {
        "id": "4pSnO8aAAgng"
      },
      "source": [
        "#### Other columns do not have any non-numeric values so convert all of them to int. (conversion to str first is necessary)"
      ]
    },
    {
      "cell_type": "code",
      "metadata": {
        "id": "xcLVeR0P5kGx"
      },
      "source": [
        "reviews['RecipeID'] = reviews['RecipeID'].astype('str')"
      ],
      "execution_count": 458,
      "outputs": []
    },
    {
      "cell_type": "code",
      "metadata": {
        "id": "EbstlZzo6NXt"
      },
      "source": [
        "reviews['RecipeID'] = reviews['RecipeID'].astype('int') "
      ],
      "execution_count": null,
      "outputs": []
    },
    {
      "cell_type": "code",
      "metadata": {
        "id": "XV0tdkBQ6l6i"
      },
      "source": [
        "reviews['rate'] = reviews['rate'].astype('str')"
      ],
      "execution_count": 456,
      "outputs": []
    },
    {
      "cell_type": "code",
      "metadata": {
        "id": "qbixGbXp6zgI"
      },
      "source": [
        "reviews['rate'] = reviews['rate'].astype('int')"
      ],
      "execution_count": 463,
      "outputs": []
    },
    {
      "cell_type": "code",
      "metadata": {
        "id": "pYQKqqn26niz"
      },
      "source": [
        "reviews['comment'] = reviews['comment'].astype('str')"
      ],
      "execution_count": 461,
      "outputs": []
    },
    {
      "cell_type": "markdown",
      "metadata": {
        "id": "kTAe_PviWzJb"
      },
      "source": [
        "##### delete the filter column"
      ]
    },
    {
      "cell_type": "code",
      "metadata": {
        "id": "XRv5h-4QWSVM"
      },
      "source": [
        "del reviews['filter']"
      ],
      "execution_count": 466,
      "outputs": []
    },
    {
      "cell_type": "code",
      "metadata": {
        "id": "PjPdDBb77myK"
      },
      "source": [
        "reviews"
      ],
      "execution_count": null,
      "outputs": []
    },
    {
      "cell_type": "markdown",
      "metadata": {
        "id": "G4CcN2WpXNcu"
      },
      "source": [
        "#### Create cleaned csv files"
      ]
    },
    {
      "cell_type": "code",
      "metadata": {
        "id": "DH3G-dmrXCyp"
      },
      "source": [
        "recipes.to_csv(\"cleaned-recipes2.csv\")"
      ],
      "execution_count": 557,
      "outputs": []
    },
    {
      "cell_type": "code",
      "metadata": {
        "id": "76gxkdFdXS-W"
      },
      "source": [
        "reviews.to_csv(\"cleaned_reviews2.csv\")"
      ],
      "execution_count": 559,
      "outputs": []
    },
    {
      "cell_type": "code",
      "metadata": {
        "id": "lLN1pqLBfOvr"
      },
      "source": [
        ""
      ],
      "execution_count": null,
      "outputs": []
    }
  ]
}